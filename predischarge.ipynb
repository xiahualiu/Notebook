{
 "cells": [
  {
   "cell_type": "code",
   "execution_count": null,
   "metadata": {},
   "outputs": [],
   "source": [
    "'''\n",
    "Global Parameters:\n",
    "    - Battery output voltage: battery_voltage [Unit: Volt]\n",
    "    - Motor controller coil capacitance: coil_cap [Unit: uF/Micro Farads]\n",
    "    - Target pre-charge voltage percentage: stop_voltage_percent [Default: 90% EV.6.6.2]\n",
    "''' \n",
    "battery_voltage=84*3.6\n",
    "coil_cap=1880\n",
    "stop_voltage_percent=0.9"
   ]
  },
  {
   "cell_type": "code",
   "execution_count": null,
   "metadata": {},
   "outputs": [],
   "source": [
    "'''\n",
    "Target Parameters:\n",
    "    - Target precharge time: target_precharge_time [Unit: Seconds]\n",
    "    - Motor controller coil capacitance: coil_cap [Unit: uF/Micro Farads]\n",
    "    - Target pre-charge voltage percentage: stop_voltage_percent [Default: 90% EV.6.6.2]\n",
    "''' \n",
    "target_precharge_time=3"
   ]
  }
 ],
 "metadata": {
  "kernelspec": {
   "display_name": "Python 3",
   "language": "python",
   "name": "python3"
  },
  "language_info": {
   "codemirror_mode": {
    "name": "ipython",
    "version": 3
   },
   "file_extension": ".py",
   "mimetype": "text/x-python",
   "name": "python",
   "nbconvert_exporter": "python",
   "pygments_lexer": "ipython3",
   "version": "3.7.9"
  }
 },
 "nbformat": 4,
 "nbformat_minor": 4
}
